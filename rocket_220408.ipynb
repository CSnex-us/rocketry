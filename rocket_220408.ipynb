{
 "cells": [
  {
   "cell_type": "markdown",
   "id": "1c619211-469c-44bd-a2a9-93b7a7170c70",
   "metadata": {},
   "source": [
    "## April 8, 2022\n",
    "Test under controlled conditions (Ms. Jones Chem Class Hood) various chemical composites for igniter. Black Powder and Aluminimun Black Powder / Aluminum Chlorhydrate mix. No significant differences noted.\n",
    "\n",
    "Several ignitors tested with black powder and superglue as epoxy composite body -- failed to ignite."
   ]
  },
  {
   "cell_type": "code",
   "execution_count": null,
   "id": "166cdf9b-739d-4f99-8fcb-d23415487d5b",
   "metadata": {},
   "outputs": [],
   "source": []
  }
 ],
 "metadata": {
  "kernelspec": {
   "display_name": "Python 3 (ipykernel)",
   "language": "python",
   "name": "python3"
  },
  "language_info": {
   "codemirror_mode": {
    "name": "ipython",
    "version": 3
   },
   "file_extension": ".py",
   "mimetype": "text/x-python",
   "name": "python",
   "nbconvert_exporter": "python",
   "pygments_lexer": "ipython3",
   "version": "3.10.2"
  }
 },
 "nbformat": 4,
 "nbformat_minor": 5
}
